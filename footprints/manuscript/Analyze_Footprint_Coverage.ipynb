{
 "cells": [
  {
   "cell_type": "markdown",
   "metadata": {},
   "source": [
    "# Intro and function definitions\n",
    "\n",
    "We have 108 databases of different tissue/seed/method combinations. Now we'd like to know how much of the genome we cover in each case. "
   ]
  },
  {
   "cell_type": "code",
   "execution_count": 29,
   "metadata": {},
   "outputs": [],
   "source": [
    "# Import packages\n",
    "library('dplyr') # For dataframe manipulation\n",
    "library('GenomicRanges') # For doing overlaps and reductions\n",
    "library('purrr') # For combining dataframes quickly\n",
    "library('BiocParallel') # For parallel computations\n",
    "library('RPostgreSQL') # For reading from databases\n",
    "library('ggpubr') # For plotting"
   ]
  },
  {
   "cell_type": "markdown",
   "metadata": {},
   "source": [
    "## Function Definitions"
   ]
  },
  {
   "cell_type": "code",
   "execution_count": null,
   "metadata": {
    "collapsed": true
   },
   "outputs": [],
   "source": [
    "# First, create a function that reads the FIMO data for one chromosome\n",
    "getRegionsForChrom <- function(chromosome){\n",
    "    \n",
    "    fimo.conn <- dbConnect(PostgreSQL(),\n",
    "                       user = \"trena\",\n",
    "                       password = \"trena\",\n",
    "                       port = \"5432\",\n",
    "                       host = \"khaleesi\",\n",
    "                       dbname = \"fimo\"                    \n",
    "                      )\n",
    "    \n",
    "    # Print out what chromosome we're using\n",
    "    to.print <- sprintf(\"Working on %s\", chromosome)\n",
    "    print(to.print)\n",
    "    # Make a string for the chromosome\n",
    "    query <- sprintf(\"select chrom, start, endpos from fimo_hg38 where chrom = '%s';\",\n",
    "                     chromosome)\n",
    "    fimo.data <- dbGetQuery(fimo.conn, query)\n",
    "    dbDisconnect(fimo.conn)\n",
    "    \n",
    "    # Print out the number of records retrieved\n",
    "    to.print <- sprintf(\"%d records retrieved for %s\", nrow(fimo.data), chromosome)\n",
    "    return(fimo.data)\n",
    "}"
   ]
  },
  {
   "cell_type": "code",
   "execution_count": 61,
   "metadata": {
    "collapsed": true
   },
   "outputs": [],
   "source": [
    "# Function for counting coverage as % of human genome, given a genomic range\n",
    "calculateGenomeCoverage <- function(my.range){\n",
    "    \n",
    "    # Use the \"reduce\" function to calculate the total areas covered\n",
    "    reduced.range <- GenomicRanges::reduce(my.range)\n",
    "    \n",
    "    # Sum the areas using the \"width\" operator to get each area\n",
    "    total.bp <- sum(as.numeric(width(reduced.range)))\n",
    "    \n",
    "    # Divide by total human genome length and return result (a decimal)\n",
    "    # my.coverage <- total.bp/3253848404\n",
    "    return(total.bp)\n",
    "}"
   ]
  },
  {
   "cell_type": "code",
   "execution_count": null,
   "metadata": {
    "collapsed": true
   },
   "outputs": [],
   "source": [
    "# Make a function that takes tissue name and figures out the pathway to its footprints\n",
    "compileFootprintPaths <- function(tissue){\n",
    "    \n",
    "    # Create the 4 strings from the tissue\n",
    "    hint.20 <- paste0(\"/ssd/mrichard/data/footprints/\",tissue,\"_hint_20\")\n",
    "    hint.16 <- paste0(\"/ssd/mrichard/data/footprints/\",tissue,\"_hint_16\")\n",
    "    well.20 <- paste0(\"/ssd/mrichard/data/footprints/\",tissue,\"_wellington_20\")\n",
    "    well.16 <- paste0(\"/ssd/mrichard/data/footprints/\",tissue,\"_wellington_16\")\n",
    "    \n",
    "    # Create all the paths\n",
    "    hint.20.paths <- list.files(hint.20)\n",
    "    hint.20.paths <- file.path(hint.20, hint.20.paths)\n",
    "    \n",
    "    hint.16.paths <- list.files(hint.16)\n",
    "    hint.16.paths <- file.path(hint.16, hint.16.paths)\n",
    "    \n",
    "    well.20.paths <- list.files(well.20)\n",
    "    well.20.paths <- file.path(well.20, well.20.paths)\n",
    "    \n",
    "    well.16.paths <- list.files(well.16)\n",
    "    well.16.paths <- file.path(well.16, well.16.paths)\n",
    "    \n",
    "    # Stick the paths together and return them\n",
    "    all.paths <- c(hint.20.paths,\n",
    "                   hint.16.paths,\n",
    "                   well.20.paths,\n",
    "                   well.16.paths\n",
    "                  )\n",
    "    \n",
    "    return(all.paths)\n",
    "}"
   ]
  },
  {
   "cell_type": "code",
   "execution_count": null,
   "metadata": {
    "collapsed": true
   },
   "outputs": [],
   "source": [
    "# Define a function that takes pathways and uses them to read FPs\n",
    "readFootprintTable <- function(fp.path){\n",
    "    tbl <- read.table(fp.path, sep = \"\\t\", as.is = TRUE)\n",
    "    colnames(tbl) <- c(\"chrom\", \"start\", \"end\", \"name\", \"score\", \"strand\")\n",
    "    return(tbl)\n",
    "}"
   ]
  },
  {
   "cell_type": "code",
   "execution_count": null,
   "metadata": {
    "collapsed": true
   },
   "outputs": [],
   "source": [
    "# Define a function that takes a list of footprint dataframes and makes it into a genomic range\n",
    "footprintsToGenomicRange <- function(fp.list){\n",
    "    \n",
    "    # Remove the non-start/end/stop columns\n",
    "    to.keep <- c(\"chrom\",\"start\",\"end\")\n",
    "    fp.list <- lapply(fp.list,dplyr::select, one_of(to.keep))\n",
    "    \n",
    "    # Collapse into one data frame\n",
    "    fp.df <- purrr::reduce(fp.list, dplyr::union)\n",
    "    \n",
    "    # Convert it into a genomic range\n",
    "    my.gr <- with(fp.df, GRanges(seqnames=chrom, IRanges(start=start, end=end)))\n",
    "    \n",
    "    return(my.gr)\n",
    "}"
   ]
  },
  {
   "cell_type": "code",
   "execution_count": null,
   "metadata": {
    "collapsed": true
   },
   "outputs": [],
   "source": [
    "# Build a function that takes the tissue and goes all the way through to coverage\n",
    "coverageFromTissue <- function(tissue){\n",
    "    \n",
    "    # First find the footprints\n",
    "    fp <- compileFootprintPaths(tissue)\n",
    "    \n",
    "    # Then use a parallel process to read all the footprints\n",
    "    my.message <- sprintf(\"Reading %d files for %s\", length(fp), tissue)\n",
    "    print(my.message)\n",
    "    register(MulticoreParam(workers = 30, stop.on.error = TRUE, log = FALSE), default = TRUE)\n",
    "    fp.list <- bptry(bplapply(fp, readFootprintTable))\n",
    "    \n",
    "    # Turn the footprint list into a genomic range\n",
    "    fp.gr <- footprintsToGenomicRange(fp.list)\n",
    "    rm(fp.list)\n",
    "    \n",
    "    # Find the coverage\n",
    "    fp.coverage <- calculateGenomeCoverage(fp.gr)\n",
    "    return(fp.coverage)\n",
    "}"
   ]
  },
  {
   "cell_type": "markdown",
   "metadata": {},
   "source": [
    "# Part 1: Calculate total overlap of FIMO\n",
    "\n",
    "The FIMO database we use is massive and contains a lot of ranges; however, it doesn't cover EVERYTHING. We want to:\n",
    "\n",
    "1. Read FIMO into a data frame from its database\n",
    "2. Turn FIMO into a GenomicRanges object\n",
    "3. Use our function to determine how much of the genome it covers\n",
    "\n",
    "Unfortunately, we can't read it all at once, so let's see if we can break it into chromosomes and read it that way! "
   ]
  },
  {
   "cell_type": "code",
   "execution_count": 53,
   "metadata": {},
   "outputs": [
    {
     "name": "stdout",
     "output_type": "stream",
     "text": [
      "[1] \"Working on Y\"\n"
     ]
    },
    {
     "data": {
      "text/plain": [
       "   user  system elapsed \n",
       "  3.516   0.252   8.716 "
      ]
     },
     "metadata": {},
     "output_type": "display_data"
    }
   ],
   "source": [
    "# Test on just the y chromosome\n",
    "chrom <- \"Y\"\n",
    "system.time(test <- getRegionsForChrom(chrom))"
   ]
  },
  {
   "cell_type": "code",
   "execution_count": 55,
   "metadata": {},
   "outputs": [
    {
     "name": "stderr",
     "output_type": "stream",
     "text": [
      "############### LOG OUTPUT ###############\n",
      "Task: 25\n",
      "Node: 25\n",
      "Timestamp: 2017-10-19 08:02:58\n",
      "Success: TRUE\n",
      "Task duration:\n",
      "   user  system elapsed \n",
      "  0.012   0.004   2.298 \n",
      "Memory used:\n",
      "           used  (Mb) gc trigger   (Mb)   max used    (Mb)\n",
      "Ncells  2020960 108.0   55774197 2978.7  110856919  5920.4\n",
      "Vcells 89422924 682.3 1129456322 8617.1 2757461726 21037.8\n",
      "Log messages:\n",
      "stderr and stdout:\n",
      "[1] \"Working on MT\"\n",
      "############### LOG OUTPUT ###############\n",
      "Task: 24\n",
      "Node: 24\n",
      "Timestamp: 2017-10-19 08:03:11\n",
      "Success: TRUE\n",
      "Task duration:\n",
      "   user  system elapsed \n",
      "  4.040   1.804  13.263 \n",
      "Memory used:\n",
      "            used  (Mb) gc trigger   (Mb)   max used    (Mb)\n",
      "Ncells   2021000 108.0   44619357 2383.0  110856919  5920.4\n",
      "Vcells 109469887 835.2  903565057 6893.7 2757461726 21037.8\n",
      "Log messages:\n",
      "stderr and stdout:\n",
      "[1] \"Working on Y\"\n",
      "############### LOG OUTPUT ###############\n",
      "Task: 21\n",
      "Node: 21\n",
      "Timestamp: 2017-10-19 08:05:28\n",
      "Success: TRUE\n",
      "Task duration:\n",
      "   user  system elapsed \n",
      "  8.956   8.768 148.634 \n",
      "Memory used:\n",
      "            used   (Mb) gc trigger   (Mb)   max used    (Mb)\n",
      "Ncells   2021036  108.0   35695485 1906.4  110856919  5920.4\n",
      "Vcells 146366758 1116.7  722852045 5515.0 2757461726 21037.8\n",
      "Log messages:\n",
      "stderr and stdout:\n",
      "[1] \"Working on 21\"\n",
      "############### LOG OUTPUT ###############\n",
      "Task: 22\n",
      "Node: 22\n",
      "Timestamp: 2017-10-19 08:05:45\n",
      "Success: TRUE\n",
      "Task duration:\n",
      "   user  system elapsed \n",
      " 10.200  10.064 165.444 \n",
      "Memory used:\n",
      "            used   (Mb) gc trigger   (Mb)   max used    (Mb)\n",
      "Ncells   2021071  108.0   28556388 1525.1  110856919  5920.4\n",
      "Vcells 187455007 1430.2  578281636 4412.0 2757461726 21037.8\n",
      "Log messages:\n",
      "stderr and stdout:\n",
      "[1] \"Working on 22\"\n",
      "############### LOG OUTPUT ###############\n",
      "Task: 20\n",
      "Node: 20\n",
      "Timestamp: 2017-10-19 08:06:47\n",
      "Success: TRUE\n",
      "Task duration:\n",
      "   user  system elapsed \n",
      " 14.956  19.104 225.762 \n",
      "Memory used:\n",
      "            used   (Mb) gc trigger   (Mb)   max used    (Mb)\n",
      "Ncells   2021106  108.0   22845110 1220.1  110856919  5920.4\n",
      "Vcells 248439524 1895.5  578281636 4412.0 2757461726 21037.8\n",
      "Log messages:\n",
      "stderr and stdout:\n",
      "[1] \"Working on 20\"\n",
      "############### LOG OUTPUT ###############\n",
      "Task: 19\n",
      "Node: 19\n",
      "Timestamp: 2017-10-19 08:07:05\n",
      "Success: TRUE\n",
      "Task duration:\n",
      "   user  system elapsed \n",
      " 16.120  20.436 243.394 \n",
      "Memory used:\n",
      "            used   (Mb) gc trigger   (Mb)   max used    (Mb)\n",
      "Ncells   2021141  108.0   18276088  976.1  110856919  5920.4\n",
      "Vcells 315137092 2404.4  578281636 4412.0 2757461726 21037.8\n",
      "Log messages:\n",
      "stderr and stdout:\n",
      "[1] \"Working on 19\"\n",
      "############### LOG OUTPUT ###############\n",
      "Task: 18\n",
      "Node: 18\n",
      "Timestamp: 2017-10-19 08:07:12\n",
      "Success: TRUE\n",
      "Task duration:\n",
      "   user  system elapsed \n",
      " 16.804  21.508 246.246 \n",
      "Memory used:\n",
      "            used   (Mb) gc trigger   (Mb)   max used    (Mb)\n",
      "Ncells   2021176  108.0   14620870  780.9  110856919  5920.4\n",
      "Vcells 383393524 2925.1  578281636 4412.0 2757461726 21037.8\n",
      "Log messages:\n",
      "stderr and stdout:\n",
      "[1] \"Working on 18\"\n",
      "############### LOG OUTPUT ###############\n",
      "Task: 15\n",
      "Node: 15\n",
      "Timestamp: 2017-10-19 08:07:33\n",
      "Success: TRUE\n",
      "Task duration:\n",
      "   user  system elapsed \n",
      " 18.792  21.364 268.644 \n",
      "Memory used:\n",
      "            used   (Mb) gc trigger   (Mb)   max used    (Mb)\n",
      "Ncells   2021211  108.0   11696696  624.7  110856919  5920.4\n",
      "Vcells 461293524 3519.4  694017963 5295.0 2757461726 21037.8\n",
      "Log messages:\n",
      "stderr and stdout:\n",
      "[1] \"Working on 15\"\n",
      "############### LOG OUTPUT ###############\n",
      "Task: 16\n",
      "Node: 16\n",
      "Timestamp: 2017-10-19 08:07:39\n",
      "Success: TRUE\n",
      "Task duration:\n",
      "   user  system elapsed \n",
      " 19.160  24.332 277.710 \n",
      "Memory used:\n",
      "            used   (Mb) gc trigger   (Mb)   max used    (Mb)\n",
      "Ncells   2021246  108.0    9357356  499.8  110856919  5920.4\n",
      "Vcells 543102584 4143.6  832901555 6354.6 2757461726 21037.8\n",
      "Log messages:\n",
      "stderr and stdout:\n",
      "[1] \"Working on 16\"\n",
      "############### LOG OUTPUT ###############\n",
      "Task: 13\n",
      "Node: 13\n",
      "Timestamp: 2017-10-19 08:07:48\n",
      "Success: TRUE\n",
      "Task duration:\n",
      "   user  system elapsed \n",
      " 21.044  23.460 283.564 \n",
      "Memory used:\n",
      "            used (Mb) gc trigger   (Mb)   max used    (Mb)\n",
      "Ncells   2021281  108    7485884  399.8  110856919  5920.4\n",
      "Vcells 629537589 4803  999561866 7626.1 2757461726 21037.8\n",
      "Log messages:\n",
      "stderr and stdout:\n",
      "[1] \"Working on 13\"\n",
      "############### LOG OUTPUT ###############\n",
      "Task: 14\n",
      "Node: 14\n",
      "Timestamp: 2017-10-19 08:07:56\n",
      "Success: TRUE\n",
      "Task duration:\n",
      "   user  system elapsed \n",
      " 19.908  23.340 279.539 \n",
      "Memory used:\n",
      "            used   (Mb) gc trigger   (Mb)   max used    (Mb)\n",
      "Ncells   2021316  108.0    5988707  319.9  110856919  5920.4\n",
      "Vcells 712724533 5437.7 1199554239 9151.9 2757461726 21037.8\n",
      "Log messages:\n",
      "stderr and stdout:\n",
      "[1] \"Working on 14\"\n",
      "############### LOG OUTPUT ###############\n",
      "Task: 17\n",
      "Node: 17\n",
      "Timestamp: 2017-10-19 08:08:06\n",
      "Success: TRUE\n",
      "Task duration:\n",
      "   user  system elapsed \n",
      " 20.148  23.996 289.196 \n",
      "Memory used:\n",
      "            used   (Mb) gc trigger   (Mb)   max used    (Mb)\n",
      "Ncells   2021351  108.0    5988707  319.9  110856919  5920.4\n",
      "Vcells 796878773 6079.8 1199554239 9151.9 2757461726 21037.8\n",
      "Log messages:\n",
      "stderr and stdout:\n",
      "[1] \"Working on 17\"\n",
      "############### LOG OUTPUT ###############\n",
      "Task: 9\n",
      "Node: 9\n",
      "Timestamp: 2017-10-19 08:08:17\n",
      "Success: TRUE\n",
      "Task duration:\n",
      "   user  system elapsed \n",
      " 24.884  33.480 310.682 \n",
      "Memory used:\n",
      "            used   (Mb) gc trigger    (Mb)   max used    (Mb)\n",
      "Ncells   2021386  108.0    5988707   319.9  110856919  5920.4\n",
      "Vcells 909549173 6939.4 1439545086 10982.9 2757461726 21037.8\n",
      "Log messages:\n",
      "stderr and stdout:\n",
      "[1] \"Working on 9\"\n",
      "############### LOG OUTPUT ###############\n",
      "Task: 11\n",
      "Node: 11\n",
      "Timestamp: 2017-10-19 08:08:45\n",
      "Success: TRUE\n",
      "Task duration:\n",
      "   user  system elapsed \n",
      " 28.228  34.036 336.639 \n",
      "Memory used:\n",
      "             used   (Mb) gc trigger    (Mb)   max used    (Mb)\n",
      "Ncells    2021421  108.0    5988707   319.9  110856919  5920.4\n",
      "Vcells 1032744857 7879.3 1727534103 13180.1 2757461726 21037.8\n",
      "Log messages:\n",
      "stderr and stdout:\n",
      "[1] \"Working on 11\"\n",
      "############### LOG OUTPUT ###############\n",
      "Task: 8\n",
      "Node: 8\n",
      "Timestamp: 2017-10-19 08:09:02\n",
      "Success: TRUE\n",
      "Task duration:\n",
      "   user  system elapsed \n",
      " 29.164  38.612 342.124 \n",
      "Memory used:\n",
      "             used   (Mb) gc trigger    (Mb)   max used    (Mb)\n",
      "Ncells    2021456  108.0    5988707   319.9  110856919  5920.4\n",
      "Vcells 1162673782 8870.5 1727534103 13180.1 2757461726 21037.8\n",
      "Log messages:\n",
      "stderr and stdout:\n",
      "[1] \"Working on 8\"\n",
      "############### LOG OUTPUT ###############\n",
      "Task: 10\n",
      "Node: 10\n",
      "Timestamp: 2017-10-19 08:09:18\n",
      "Success: TRUE\n",
      "Task duration:\n",
      "   user  system elapsed \n",
      " 27.864  36.788 338.926 \n",
      "Memory used:\n",
      "             used   (Mb) gc trigger    (Mb)   max used    (Mb)\n",
      "Ncells    2021491  108.0    5988707   319.9  110856919  5920.4\n",
      "Vcells 1286091387 9812.1 2073120923 15816.7 2757461726 21037.8\n",
      "Log messages:\n",
      "stderr and stdout:\n",
      "[1] \"Working on 10\"\n",
      "############### LOG OUTPUT ###############\n",
      "Task: 12\n",
      "Node: 12\n",
      "Timestamp: 2017-10-19 08:09:33\n",
      "Success: TRUE\n",
      "Task duration:\n",
      "   user  system elapsed \n",
      " 27.144  36.836 337.212 \n",
      "Memory used:\n",
      "             used    (Mb) gc trigger    (Mb)   max used    (Mb)\n",
      "Ncells    2021526   108.0    5988707   319.9  110856919  5920.4\n",
      "Vcells 1408259030 10744.2 2073120923 15816.7 2757461726 21037.8\n",
      "Log messages:\n",
      "stderr and stdout:\n",
      "[1] \"Working on 12\"\n",
      "############### LOG OUTPUT ###############\n",
      "Task: 7\n",
      "Node: 7\n",
      "Timestamp: 2017-10-19 08:09:50\n",
      "Success: TRUE\n",
      "Task duration:\n",
      "   user  system elapsed \n",
      " 35.140  58.372 393.691 \n",
      "Memory used:\n",
      "             used    (Mb) gc trigger    (Mb)   max used    (Mb)\n",
      "Ncells    2021561   108.0    5988707   319.9  110856919  5920.4\n",
      "Vcells 1554485605 11859.8 2487825107 18980.6 2757461726 21037.8\n",
      "Log messages:\n",
      "stderr and stdout:\n",
      "[1] \"Working on 7\"\n",
      "############### LOG OUTPUT ###############\n",
      "Task: 6\n",
      "Node: 6\n",
      "Timestamp: 2017-10-19 08:10:04\n",
      "Success: TRUE\n",
      "Task duration:\n",
      "   user  system elapsed \n",
      " 37.628  62.384 404.608 \n",
      "Memory used:\n",
      "             used    (Mb) gc trigger    (Mb)   max used    (Mb)\n",
      "Ncells    2021596   108.0    5988707   319.9  110856919  5920.4\n",
      "Vcells 1706799196 13021.9 2487825107 18980.6 2757461726 21037.8\n",
      "Log messages:\n",
      "stderr and stdout:\n",
      "[1] \"Working on 6\"\n",
      "############### LOG OUTPUT ###############\n",
      "Task: 3\n",
      "Node: 3\n",
      "Timestamp: 2017-10-19 08:10:23\n",
      "Success: TRUE\n",
      "Task duration:\n",
      "   user  system elapsed \n",
      " 42.904  62.328 428.386 \n",
      "Memory used:\n",
      "             used  (Mb) gc trigger    (Mb)   max used    (Mb)\n",
      "Ncells    2021631   108    5988707   319.9  110856919  5920.4\n",
      "Vcells 1882454991 14362 2985470128 22777.4 2757461726 21037.8\n",
      "Log messages:\n",
      "stderr and stdout:\n",
      "[1] \"Working on 3\"\n"
     ]
    },
    {
     "name": "stderr",
     "output_type": "stream",
     "text": [
      "############### LOG OUTPUT ###############\n",
      "Task: 4\n",
      "Node: 4\n",
      "Timestamp: 2017-10-19 08:10:43\n",
      "Success: TRUE\n",
      "Task duration:\n",
      "   user  system elapsed \n",
      " 43.104  58.248 418.807 \n",
      "Memory used:\n",
      "             used    (Mb) gc trigger    (Mb)   max used    (Mb)\n",
      "Ncells    2021666   108.0    5988707   319.9  110856919  5920.4\n",
      "Vcells 2048686629 15630.3 2985470128 22777.4 2757461726 21037.8\n",
      "Log messages:\n",
      "stderr and stdout:\n",
      "[1] \"Working on 4\"\n",
      "############### LOG OUTPUT ###############\n",
      "Task: 1\n",
      "Node: 1\n",
      "Timestamp: 2017-10-19 08:11:05\n",
      "Success: TRUE\n",
      "Task duration:\n",
      "   user  system elapsed \n",
      " 49.032  76.304 461.441 \n",
      "Memory used:\n",
      "             used    (Mb) gc trigger    (Mb)   max used    (Mb)\n",
      "Ncells    2021701   108.0    5988707   319.9  110856919  5920.4\n",
      "Vcells 2265338952 17283.2 3582644153 27333.5 2757461726 21037.8\n",
      "Log messages:\n",
      "stderr and stdout:\n",
      "[1] \"Working on 1\"\n",
      "############### LOG OUTPUT ###############\n",
      "Task: 2\n",
      "Node: 2\n",
      "Timestamp: 2017-10-19 08:11:37\n",
      "Success: TRUE\n",
      "Task duration:\n",
      "   user  system elapsed \n",
      " 51.296  80.112 465.644 \n",
      "Memory used:\n",
      "             used  (Mb) gc trigger    (Mb)   max used    (Mb)\n",
      "Ncells    2021736   108    5988707   319.9  110856919  5920.4\n",
      "Vcells 2483548402 18948 3582644153 27333.5 2757461726 21037.8\n",
      "Log messages:\n",
      "stderr and stdout:\n",
      "[1] \"Working on 2\"\n",
      "############### LOG OUTPUT ###############\n",
      "Task: 5\n",
      "Node: 5\n",
      "Timestamp: 2017-10-19 08:12:02\n",
      "Success: TRUE\n",
      "Task duration:\n",
      "   user  system elapsed \n",
      " 39.700  65.416 417.552 \n",
      "Memory used:\n",
      "             used    (Mb) gc trigger    (Mb)   max used    (Mb)\n",
      "Ncells    2021771   108.0    5988707   319.9  110856919  5920.4\n",
      "Vcells 2644416584 20175.3 4299252983 32800.7 2757461726 21037.8\n",
      "Log messages:\n",
      "stderr and stdout:\n",
      "[1] \"Working on 5\"\n",
      "############### LOG OUTPUT ###############\n",
      "Task: 23\n",
      "Node: 23\n",
      "Timestamp: 2017-10-19 08:12:11\n",
      "Success: TRUE\n",
      "Task duration:\n",
      "   user  system elapsed \n",
      " 33.268  50.644 363.310 \n",
      "Memory used:\n",
      "             used    (Mb) gc trigger    (Mb)   max used    (Mb)\n",
      "Ncells    2021806   108.0    5988707   319.9  110856919  5920.4\n",
      "Vcells 2779319466 21204.6 4299252983 32800.7 2779325479 21204.6\n",
      "Log messages:\n",
      "stderr and stdout:\n",
      "[1] \"Working on X\"\n"
     ]
    },
    {
     "data": {
      "text/plain": [
       "   user  system elapsed \n",
       "159.120 147.420 566.772 "
      ]
     },
     "metadata": {},
     "output_type": "display_data"
    }
   ],
   "source": [
    "chroms <- c(1:22, \"X\",\"Y\", \"MT\")\n",
    "register(MulticoreParam(workers = 25, stop.on.error = TRUE, log = TRUE), default = TRUE)\n",
    "   \n",
    "# Run it\n",
    "system.time(all.chroms.list <- bptry(bplapply(chroms, getRegionsForChrom)))"
   ]
  },
  {
   "cell_type": "code",
   "execution_count": 56,
   "metadata": {
    "collapsed": true
   },
   "outputs": [],
   "source": [
    "# Convert to a DF\n",
    "full.fimo <- bind_rows(all.chroms.list)"
   ]
  },
  {
   "cell_type": "code",
   "execution_count": 57,
   "metadata": {},
   "outputs": [
    {
     "data": {
      "text/html": [
       "<ol class=list-inline>\n",
       "\t<li>1344953740</li>\n",
       "\t<li>3</li>\n",
       "</ol>\n"
      ],
      "text/latex": [
       "\\begin{enumerate*}\n",
       "\\item 1344953740\n",
       "\\item 3\n",
       "\\end{enumerate*}\n"
      ],
      "text/markdown": [
       "1. 1344953740\n",
       "2. 3\n",
       "\n",
       "\n"
      ],
      "text/plain": [
       "[1] 1344953740          3"
      ]
     },
     "metadata": {},
     "output_type": "display_data"
    }
   ],
   "source": [
    "# Size is??\n",
    "dim(full.fimo)"
   ]
  },
  {
   "cell_type": "markdown",
   "metadata": {},
   "source": [
    "Make it into a GRanges object"
   ]
  },
  {
   "cell_type": "code",
   "execution_count": 58,
   "metadata": {},
   "outputs": [],
   "source": [
    "gr.fimo <- with(full.fimo, GRanges(seqnames=chrom, IRanges(start=start, end=endpos)))"
   ]
  },
  {
   "cell_type": "markdown",
   "metadata": {},
   "source": [
    "Find the coverage"
   ]
  },
  {
   "cell_type": "code",
   "execution_count": 62,
   "metadata": {},
   "outputs": [
    {
     "data": {
      "text/plain": [
       "   user  system elapsed \n",
       "206.532   3.696 210.247 "
      ]
     },
     "metadata": {},
     "output_type": "display_data"
    }
   ],
   "source": [
    "system.time(fimo.coverage <- calculateGenomeCoverage(gr.fimo))"
   ]
  },
  {
   "cell_type": "code",
   "execution_count": 63,
   "metadata": {},
   "outputs": [
    {
     "data": {
      "text/html": [
       "78.132442429546"
      ],
      "text/latex": [
       "78.132442429546"
      ],
      "text/markdown": [
       "78.132442429546"
      ],
      "text/plain": [
       "[1] 78.13244"
      ]
     },
     "metadata": {},
     "output_type": "display_data"
    }
   ],
   "source": [
    "100* fimo.coverage/3253848404"
   ]
  },
  {
   "cell_type": "markdown",
   "metadata": {},
   "source": [
    "# Part 2: Calculate the coverage for each tissue\n",
    "\n",
    "Find the coverage for each tissue, using all methods AND seeds for each tissue. Do this using lapply; don't use bplapply, as that's already being used in the inner functions"
   ]
  },
  {
   "cell_type": "code",
   "execution_count": 18,
   "metadata": {},
   "outputs": [
    {
     "data": {
      "text/html": [
       "26"
      ],
      "text/latex": [
       "26"
      ],
      "text/markdown": [
       "26"
      ],
      "text/plain": [
       "[1] 26"
      ]
     },
     "metadata": {},
     "output_type": "display_data"
    }
   ],
   "source": [
    "all.tissues <- c(\"adrenal_gland\",\n",
    "                 \"blood_vessel\",\n",
    "                 \"bone_element\",\n",
    "                 \"brain\",\n",
    "                 \"bronchus\",\n",
    "                 \"esophagus\",\n",
    "                 #\"extraembryonic_structure\",\n",
    "                 \"eye\",\n",
    "                 \"gonad\",\n",
    "                 \"heart\",\n",
    "                 \"kidney\",\n",
    "                 \"large_intestine\",\n",
    "                 \"liver\",\n",
    "                 \"lung\",\n",
    "                 \"lymphatic_vessel\",\n",
    "                 \"lymphoblast\",\n",
    "                 \"mammary_gland\",\n",
    "                 \"mouth\",\n",
    "                 \"muscle_organ\",\n",
    "                 \"pancreas\",\n",
    "                 \"prostate_gland\",\n",
    "                 \"skin\",\n",
    "                 \"spinal_cord\",\n",
    "                 \"stomach\",\n",
    "                 \"thyroid_gland\",\n",
    "                 \"tongue\",\n",
    "                 \"urinary_bladder\"                \n",
    "                )\n",
    "length(all.tissues)"
   ]
  },
  {
   "cell_type": "code",
   "execution_count": 19,
   "metadata": {},
   "outputs": [
    {
     "name": "stdout",
     "output_type": "stream",
     "text": [
      "[1] \"Reading 12 files for adrenal_gland\"\n",
      "[1] \"Reading 40 files for blood_vessel\"\n",
      "[1] \"Reading 4 files for bone_element\"\n",
      "[1] \"Reading 116 files for brain\"\n",
      "[1] \"Reading 8 files for bronchus\"\n",
      "[1] \"Reading 8 files for esophagus\"\n",
      "[1] \"Reading 32 files for eye\"\n",
      "[1] \"Reading 10 files for gonad\"\n",
      "[1] \"Reading 30 files for heart\"\n",
      "[1] \"Reading 32 files for kidney\"\n",
      "[1] \"Reading 20 files for large_intestine\"\n",
      "[1] \"Reading 10 files for liver\"\n",
      "[1] \"Reading 28 files for lung\"\n",
      "[1] \"Reading 8 files for lymphatic_vessel\"\n",
      "[1] \"Reading 84 files for lymphoblast\"\n",
      "[1] \"Reading 8 files for mammary_gland\"\n",
      "[1] \"Reading 16 files for mouth\"\n",
      "[1] \"Reading 14 files for muscle_organ\"\n",
      "[1] \"Reading 8 files for pancreas\"\n",
      "[1] \"Reading 8 files for prostate_gland\"\n",
      "[1] \"Reading 184 files for skin\"\n",
      "[1] \"Reading 8 files for spinal_cord\"\n",
      "[1] \"Reading 4 files for stomach\"\n",
      "[1] \"Reading 12 files for thyroid_gland\"\n",
      "[1] \"Reading 8 files for tongue\"\n",
      "[1] \"Reading 4 files for urinary_bladder\"\n"
     ]
    },
    {
     "data": {
      "text/plain": [
       "     user    system   elapsed \n",
       "14027.048   447.392 15432.861 "
      ]
     },
     "metadata": {},
     "output_type": "display_data"
    }
   ],
   "source": [
    "# Note: This takes ~4.5 hours\n",
    "system.time(all.widths <- lapply(all.tissues, coverageFromTissue))"
   ]
  },
  {
   "cell_type": "code",
   "execution_count": 22,
   "metadata": {},
   "outputs": [],
   "source": [
    "tissue.coverage <- data_frame(Tissue = all.tissues,\n",
    "                              Total.Width = unlist(all.widths),\n",
    "                              Coverage = 100*Total.Width/3253848404\n",
    "                             )"
   ]
  },
  {
   "cell_type": "code",
   "execution_count": 24,
   "metadata": {},
   "outputs": [
    {
     "data": {
      "text/html": [
       "<table>\n",
       "<thead><tr><th scope=col>Tissue</th><th scope=col>Total.Width</th><th scope=col>Coverage</th></tr></thead>\n",
       "<tbody>\n",
       "\t<tr><td>brain           </td><td>485325656       </td><td>14.915435       </td></tr>\n",
       "\t<tr><td>skin            </td><td>318498047       </td><td> 9.788349       </td></tr>\n",
       "\t<tr><td>lymphoblast     </td><td>289361515       </td><td> 8.892901       </td></tr>\n",
       "\t<tr><td>eye             </td><td>207309541       </td><td> 6.371211       </td></tr>\n",
       "\t<tr><td>heart           </td><td>193291371       </td><td> 5.940393       </td></tr>\n",
       "\t<tr><td>kidney          </td><td>183101528       </td><td> 5.627230       </td></tr>\n",
       "\t<tr><td>lung            </td><td>166876505       </td><td> 5.128589       </td></tr>\n",
       "\t<tr><td>blood_vessel    </td><td>147439372       </td><td> 4.531231       </td></tr>\n",
       "\t<tr><td>large_intestine </td><td>143353494       </td><td> 4.405660       </td></tr>\n",
       "\t<tr><td>mouth           </td><td>127645515       </td><td> 3.922909       </td></tr>\n",
       "\t<tr><td>liver           </td><td>126336341       </td><td> 3.882674       </td></tr>\n",
       "\t<tr><td>muscle_organ    </td><td>124497260       </td><td> 3.826154       </td></tr>\n",
       "\t<tr><td>spinal_cord     </td><td>119285943       </td><td> 3.665996       </td></tr>\n",
       "\t<tr><td>thyroid_gland   </td><td>115559320       </td><td> 3.551466       </td></tr>\n",
       "\t<tr><td>pancreas        </td><td>103117500       </td><td> 3.169094       </td></tr>\n",
       "\t<tr><td>tongue          </td><td>101191533       </td><td> 3.109903       </td></tr>\n",
       "\t<tr><td>gonad           </td><td> 99644705       </td><td> 3.062365       </td></tr>\n",
       "\t<tr><td>adrenal_gland   </td><td> 81092315       </td><td> 2.492197       </td></tr>\n",
       "\t<tr><td>stomach         </td><td> 76287444       </td><td> 2.344530       </td></tr>\n",
       "\t<tr><td>prostate_gland  </td><td> 71078287       </td><td> 2.184438       </td></tr>\n",
       "\t<tr><td>esophagus       </td><td> 63164670       </td><td> 1.941230       </td></tr>\n",
       "\t<tr><td>bronchus        </td><td> 60248966       </td><td> 1.851622       </td></tr>\n",
       "\t<tr><td>mammary_gland   </td><td> 55764342       </td><td> 1.713797       </td></tr>\n",
       "\t<tr><td>lymphatic_vessel</td><td> 46122433       </td><td> 1.417473       </td></tr>\n",
       "\t<tr><td>bone_element    </td><td> 37962032       </td><td> 1.166681       </td></tr>\n",
       "\t<tr><td>urinary_bladder </td><td> 35635774       </td><td> 1.095189       </td></tr>\n",
       "</tbody>\n",
       "</table>\n"
      ],
      "text/latex": [
       "\\begin{tabular}{r|lll}\n",
       " Tissue & Total.Width & Coverage\\\\\n",
       "\\hline\n",
       "\t brain            & 485325656        & 14.915435       \\\\\n",
       "\t skin             & 318498047        &  9.788349       \\\\\n",
       "\t lymphoblast      & 289361515        &  8.892901       \\\\\n",
       "\t eye              & 207309541        &  6.371211       \\\\\n",
       "\t heart            & 193291371        &  5.940393       \\\\\n",
       "\t kidney           & 183101528        &  5.627230       \\\\\n",
       "\t lung             & 166876505        &  5.128589       \\\\\n",
       "\t blood\\_vessel     & 147439372          &  4.531231         \\\\\n",
       "\t large\\_intestine  & 143353494          &  4.405660         \\\\\n",
       "\t mouth            & 127645515        &  3.922909       \\\\\n",
       "\t liver            & 126336341        &  3.882674       \\\\\n",
       "\t muscle\\_organ     & 124497260          &  3.826154         \\\\\n",
       "\t spinal\\_cord      & 119285943          &  3.665996         \\\\\n",
       "\t thyroid\\_gland    & 115559320          &  3.551466         \\\\\n",
       "\t pancreas         & 103117500        &  3.169094       \\\\\n",
       "\t tongue           & 101191533        &  3.109903       \\\\\n",
       "\t gonad            &  99644705        &  3.062365       \\\\\n",
       "\t adrenal\\_gland    &  81092315          &  2.492197         \\\\\n",
       "\t stomach          &  76287444        &  2.344530       \\\\\n",
       "\t prostate\\_gland   &  71078287          &  2.184438         \\\\\n",
       "\t esophagus        &  63164670        &  1.941230       \\\\\n",
       "\t bronchus         &  60248966        &  1.851622       \\\\\n",
       "\t mammary\\_gland    &  55764342          &  1.713797         \\\\\n",
       "\t lymphatic\\_vessel &  46122433          &  1.417473         \\\\\n",
       "\t bone\\_element     &  37962032          &  1.166681         \\\\\n",
       "\t urinary\\_bladder  &  35635774          &  1.095189         \\\\\n",
       "\\end{tabular}\n"
      ],
      "text/markdown": [
       "\n",
       "Tissue | Total.Width | Coverage | \n",
       "|---|---|---|---|---|---|---|---|---|---|---|---|---|---|---|---|---|---|---|---|---|---|---|---|---|---|\n",
       "| brain            | 485325656        | 14.915435        | \n",
       "| skin             | 318498047        |  9.788349        | \n",
       "| lymphoblast      | 289361515        |  8.892901        | \n",
       "| eye              | 207309541        |  6.371211        | \n",
       "| heart            | 193291371        |  5.940393        | \n",
       "| kidney           | 183101528        |  5.627230        | \n",
       "| lung             | 166876505        |  5.128589        | \n",
       "| blood_vessel     | 147439372        |  4.531231        | \n",
       "| large_intestine  | 143353494        |  4.405660        | \n",
       "| mouth            | 127645515        |  3.922909        | \n",
       "| liver            | 126336341        |  3.882674        | \n",
       "| muscle_organ     | 124497260        |  3.826154        | \n",
       "| spinal_cord      | 119285943        |  3.665996        | \n",
       "| thyroid_gland    | 115559320        |  3.551466        | \n",
       "| pancreas         | 103117500        |  3.169094        | \n",
       "| tongue           | 101191533        |  3.109903        | \n",
       "| gonad            |  99644705        |  3.062365        | \n",
       "| adrenal_gland    |  81092315        |  2.492197        | \n",
       "| stomach          |  76287444        |  2.344530        | \n",
       "| prostate_gland   |  71078287        |  2.184438        | \n",
       "| esophagus        |  63164670        |  1.941230        | \n",
       "| bronchus         |  60248966        |  1.851622        | \n",
       "| mammary_gland    |  55764342        |  1.713797        | \n",
       "| lymphatic_vessel |  46122433        |  1.417473        | \n",
       "| bone_element     |  37962032        |  1.166681        | \n",
       "| urinary_bladder  |  35635774        |  1.095189        | \n",
       "\n",
       "\n"
      ],
      "text/plain": [
       "   Tissue           Total.Width Coverage \n",
       "1  brain            485325656   14.915435\n",
       "2  skin             318498047    9.788349\n",
       "3  lymphoblast      289361515    8.892901\n",
       "4  eye              207309541    6.371211\n",
       "5  heart            193291371    5.940393\n",
       "6  kidney           183101528    5.627230\n",
       "7  lung             166876505    5.128589\n",
       "8  blood_vessel     147439372    4.531231\n",
       "9  large_intestine  143353494    4.405660\n",
       "10 mouth            127645515    3.922909\n",
       "11 liver            126336341    3.882674\n",
       "12 muscle_organ     124497260    3.826154\n",
       "13 spinal_cord      119285943    3.665996\n",
       "14 thyroid_gland    115559320    3.551466\n",
       "15 pancreas         103117500    3.169094\n",
       "16 tongue           101191533    3.109903\n",
       "17 gonad             99644705    3.062365\n",
       "18 adrenal_gland     81092315    2.492197\n",
       "19 stomach           76287444    2.344530\n",
       "20 prostate_gland    71078287    2.184438\n",
       "21 esophagus         63164670    1.941230\n",
       "22 bronchus          60248966    1.851622\n",
       "23 mammary_gland     55764342    1.713797\n",
       "24 lymphatic_vessel  46122433    1.417473\n",
       "25 bone_element      37962032    1.166681\n",
       "26 urinary_bladder   35635774    1.095189"
      ]
     },
     "metadata": {},
     "output_type": "display_data"
    }
   ],
   "source": [
    "tissue.coverage %>% arrange(desc(Coverage))"
   ]
  },
  {
   "cell_type": "code",
   "execution_count": 26,
   "metadata": {},
   "outputs": [],
   "source": [
    "saveRDS(tissue.coverage, \"./allCoverageWOExtraembryonic.RDS\")"
   ]
  },
  {
   "cell_type": "code",
   "execution_count": 27,
   "metadata": {
    "collapsed": true
   },
   "outputs": [],
   "source": [
    "# Load the DF if necessary\n",
    "#tissue.coverage <- readRDS(\"./allCoverageWOExtraembryonic.RDS\")"
   ]
  },
  {
   "cell_type": "code",
   "execution_count": 65,
   "metadata": {},
   "outputs": [
    {
     "data": {},
     "metadata": {},
     "output_type": "display_data"
    },
    {
     "data": {
      "text/html": [
       "<strong>png:</strong> 2"
      ],
      "text/latex": [
       "\\textbf{png:} 2"
      ],
      "text/markdown": [
       "**png:** 2"
      ],
      "text/plain": [
       "png \n",
       "  2 "
      ]
     },
     "metadata": {},
     "output_type": "display_data"
    },
    {
     "data": {},
     "metadata": {},
     "output_type": "display_data"
    },
    {
     "data": {
      "image/png": "[encoded data removed]",
      "text/plain": [
       "plot without title"
      ]
     },
     "metadata": {},
     "output_type": "display_data"
    }
   ],
   "source": [
    "# Plot it\n",
    "tissue.coverage %>% ggbarplot(x = \"Tissue\",\n",
    "                              y = \"Coverage\",\n",
    "                              fill = \"steelblue\",\n",
    "                              x.text.angle = 45,\n",
    "                              sort.val = \"desc\"                              \n",
    "                             ) -> coverage.plot\n",
    "\n",
    "# Save to a figure\n",
    "png(\"./coveragePlot.png\")\n",
    "coverage.plot\n",
    "dev.off()\n",
    "\n",
    "# Show it\n",
    "coverage.plot\n"
   ]
  },
  {
   "cell_type": "code",
   "execution_count": null,
   "metadata": {
    "collapsed": true
   },
   "outputs": [],
   "source": []
  }
 ],
 "metadata": {
  "kernelspec": {
   "display_name": "R",
   "language": "R",
   "name": "ir"
  },
  "language_info": {
   "codemirror_mode": "r",
   "file_extension": ".r",
   "mimetype": "text/x-r-source",
   "name": "R",
   "pygments_lexer": "r",
   "version": "3.4.2"
  }
 },
 "nbformat": 4,
 "nbformat_minor": 2
}
